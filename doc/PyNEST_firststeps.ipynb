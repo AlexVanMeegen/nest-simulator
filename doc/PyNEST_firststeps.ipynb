{
 "cells": [
  {
   "cell_type": "markdown",
   "metadata": {},
   "source": [
    "\n",
    "# PyNEST - First Steps\n",
    "\n",
    "**Based on Jupyter Notebook created by Alexander van Meegen**"
   ]
  },
  {
   "cell_type": "code",
   "execution_count": null,
   "metadata": {},
   "outputs": [],
   "source": [
    "# import the NEST module and voltage trace so we can plot the membrane potential\n",
    "import nest\n",
    "import nest.voltage_trace"
   ]
  },
  {
   "cell_type": "code",
   "execution_count": null,
   "metadata": {},
   "outputs": [],
   "source": [
    "# Before creating a new network, reset the simulation kernel. This ensures we start\n",
    "# in a clean state.\n",
    "nest.ResetKernel()"
   ]
  },
  {
   "cell_type": "markdown",
   "metadata": {},
   "source": [
    "## Create neurons\n",
    "\n",
    "You can find all models for neurons as well as devices and synapses in our Model directory (www.nest-simulator.org/documentation)"
   ]
  },
  {
   "cell_type": "code",
   "execution_count": null,
   "metadata": {},
   "outputs": [],
   "source": [
    "# Create the neuron. The neuron model we are creating is a leaky\n",
    "# integrate-and-fire neuron with exponential shaped post-synaptic currents\n",
    "neuron = nest.Create('iaf_psc_exp')"
   ]
  },
  {
   "cell_type": "markdown",
   "metadata": {},
   "source": [
    "``Create()`` just returns a list (tuple) with handles to the new nodes\n",
    "(handles = integer numbers called ids)"
   ]
  },
  {
   "cell_type": "code",
   "execution_count": null,
   "metadata": {},
   "outputs": [],
   "source": [
    "# Investigate the neuron, this returns the id as a list (in this case we only\n",
    "# have one neuron)\n",
    "neuron"
   ]
  },
  {
   "cell_type": "code",
   "execution_count": null,
   "metadata": {},
   "outputs": [],
   "source": [
    "# We can now get the current dynamical state/parameters of the neuron.\n",
    "# Note that the membrane voltage is at -70 mV.\n",
    "nest.GetStatus(neuron)"
   ]
  },
  {
   "cell_type": "code",
   "execution_count": null,
   "metadata": {},
   "outputs": [],
   "source": [
    "# Some of the parameters can be updated. To find parameter info and much more,\n",
    "# check out the model documentation\n",
    "nest.help('iaf_psc_exp')"
   ]
  },
  {
   "cell_type": "markdown",
   "metadata": {},
   "source": [
    "## Create devices\n",
    "\n",
    "Devices are network nodes which provide input to the network or record its\n",
    "output. They encapsulate the stimulation and measurement process. If you want\n",
    "to extract certain information from a simulation, you need a device which is\n",
    "able to deliver this information. Likewise, if you want to send specific input\n",
    "to the network, you need a device which delivers this input.\n",
    " \n",
    "Devices have a built-in timer which controls the period they are active. Outside\n",
    "this interval, a device will remain silent. The timer can be configured using\n",
    "the command ``SetStatus``.\n"
   ]
  },
  {
   "cell_type": "code",
   "execution_count": null,
   "metadata": {},
   "outputs": [],
   "source": [
    "# Create a spike generator. Devices are created in the same way as neurons.\n",
    "spikegenerator = nest.Create('spike_generator')"
   ]
  },
  {
   "cell_type": "code",
   "execution_count": null,
   "metadata": {},
   "outputs": [],
   "source": [
    "# Check out 'spike_times' in its parameters\n",
    "nest.GetStatus(spikegenerator)"
   ]
  },
  {
   "cell_type": "code",
   "execution_count": null,
   "metadata": {},
   "outputs": [],
   "source": [
    "# Set the spike times at 10 and 50 ms. Note the decimal is required.\n",
    "nest.SetStatus(spikegenerator, {'spike_times': [10., 50.]})"
   ]
  },
  {
   "cell_type": "code",
   "execution_count": null,
   "metadata": {},
   "outputs": [],
   "source": [
    "# Create a voltmeter for recording\n",
    "voltmeter = nest.Create('voltmeter')"
   ]
  },
  {
   "cell_type": "code",
   "execution_count": null,
   "metadata": {},
   "outputs": [],
   "source": [
    "# See that it records membrane voltage, senders, times\n",
    "nest.GetStatus(voltmeter)"
   ]
  },
  {
   "cell_type": "markdown",
   "metadata": {},
   "source": [
    "## Connect neuron to devices\n",
    "\n",
    "Connections between nodes (neurons, devices or synapses) define possible channels for interactions between\n",
    "them. A connection between two nodes is established, using the command\n",
    "``Connect``.\n",
    "\n",
    "Each connection has two basic parameters, *weight* and *delay*. The weight\n",
    "determines the strength of the connection, the delay determines how long an\n",
    "event needs to travel from the sending to the receiving node. The delay must be\n",
    "a positive number greater or equal to the simulation stepsize and is given in\n",
    "ms."
   ]
  },
  {
   "cell_type": "code",
   "execution_count": null,
   "metadata": {},
   "outputs": [],
   "source": [
    "# Investigate Connect() function. If you are running this in a python prompt and\n",
    "help('nest.Connect')\n",
    "# If you are running this in ipython you can use nest.Connect?"
   ]
  },
  {
   "cell_type": "code",
   "execution_count": null,
   "metadata": {},
   "outputs": [],
   "source": [
    "# You can see there are several options to specify synapse and connection\n",
    "# specifications"
   ]
  },
  {
   "cell_type": "code",
   "execution_count": null,
   "metadata": {},
   "outputs": [],
   "source": [
    "# Connect spike generator and voltmeter to the neuron. We can specify\n",
    "# the synaptic specifications at this step.\n",
    "nest.Connect(spikegenerator, neuron, syn_spec={'weight': 1e3})\n",
    "nest.Connect(voltmeter, neuron)"
   ]
  },
  {
   "cell_type": "markdown",
   "metadata": {},
   "source": [
    "## Simulate the network\n",
    "\n",
    "NEST simulations are time driven. The simulation time proceeds in discrete steps\n",
    "of size ``dt``, set using the property ``resolution`` of the root node. In each time\n",
    "slice, all nodes in the system are updated and pending events are delivered.\n",
    "\n",
    "The simulation is run by calling the command ``Simulate(t)``, where ``t`` is the\n",
    "simulation time in milliseconds."
   ]
  },
  {
   "cell_type": "code",
   "execution_count": null,
   "metadata": {},
   "outputs": [],
   "source": [
    "# Now we can run our simulation. We will set it for 100 ms. Note that the\n",
    "# decimal is required.\n",
    "nest.Simulate(100.)"
   ]
  },
  {
   "cell_type": "code",
   "execution_count": null,
   "metadata": {},
   "outputs": [],
   "source": [
    "# Let's look at nest's KernelStatus:\n",
    "# network_size (root node, neuron, spike generator, voltmeter)\n",
    "# num_connections\n",
    "# time (simulation duration)\n",
    "nest.GetKernelStatus()"
   ]
  },
  {
   "cell_type": "code",
   "execution_count": null,
   "metadata": {},
   "outputs": [],
   "source": [
    "# Note that voltmeter has recorded 99 events\n",
    "nest.GetStatus(voltmeter)"
   ]
  },
  {
   "cell_type": "code",
   "execution_count": null,
   "metadata": {},
   "outputs": [],
   "source": [
    "# Read out recording time and voltage from voltmeter\n",
    "times = nest.GetStatus(voltmeter)[0]['events']['times']\n",
    "voltages = nest.GetStatus(voltmeter)[0]['events']['V_m']"
   ]
  },
  {
   "cell_type": "markdown",
   "metadata": {},
   "source": [
    "## Plot the output"
   ]
  },
  {
   "cell_type": "code",
   "execution_count": null,
   "metadata": {},
   "outputs": [],
   "source": [
    "# Create the plot with NEST's built-in plotting function\n",
    "nest.voltage_trace.from_device(voltmeter)"
   ]
  },
  {
   "cell_type": "code",
   "execution_count": null,
   "metadata": {},
   "outputs": [],
   "source": [
    "# To view the plot from a terminal use\n",
    "nest.voltage_trace.show()"
   ]
  }
 ],
 "metadata": {
  "kernelspec": {
   "display_name": "Python 3",
   "language": "python",
   "name": "python3"
  },
  "language_info": {
   "codemirror_mode": {
    "name": "ipython",
    "version": 3
   },
   "file_extension": ".py",
   "mimetype": "text/x-python",
   "name": "python",
   "nbconvert_exporter": "python",
   "pygments_lexer": "ipython3",
   "version": "3.6.8"
  }
 },
 "nbformat": 4,
 "nbformat_minor": 2
}
